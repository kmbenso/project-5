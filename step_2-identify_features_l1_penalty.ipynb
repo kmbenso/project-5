{
 "cells": [
  {
   "cell_type": "code",
   "execution_count": 8,
   "metadata": {
    "collapsed": false,
    "scrolled": true
   },
   "outputs": [
    {
     "ename": "ImportError",
     "evalue": "cannot import name model_score",
     "output_type": "error",
     "traceback": [
      "\u001b[0;31m---------------------------------------------------------------------------\u001b[0m",
      "\u001b[0;31mImportError\u001b[0m                               Traceback (most recent call last)",
      "\u001b[0;32m<ipython-input-8-4a4f441c4632>\u001b[0m in \u001b[0;36m<module>\u001b[0;34m()\u001b[0m\n\u001b[0;32m----> 1\u001b[0;31m \u001b[0;32mfrom\u001b[0m \u001b[0mlib\u001b[0m\u001b[0;34m.\u001b[0m\u001b[0mproject_5\u001b[0m \u001b[0;32mimport\u001b[0m \u001b[0mload_data_from_database\u001b[0m\u001b[0;34m,\u001b[0m \u001b[0mmake_data_dict\u001b[0m\u001b[0;34m,\u001b[0m \u001b[0mgeneral_model\u001b[0m\u001b[0;34m,\u001b[0m \u001b[0mgeneral_transformer\u001b[0m\u001b[0;34m,\u001b[0m \u001b[0mmodel_score\u001b[0m\u001b[0;34m\u001b[0m\u001b[0m\n\u001b[0m",
      "\u001b[0;31mImportError\u001b[0m: cannot import name model_score"
     ]
    }
   ],
   "source": [
    "from lib.project_5 import load_data_from_database, make_data_dict, general_model, general_transformer, model_score"
   ]
  },
  {
   "cell_type": "code",
   "execution_count": 9,
   "metadata": {
    "collapsed": true
   },
   "outputs": [],
   "source": [
    "import pandas as pd\n",
    "import numpy as np\n",
    "from sqlalchemy import create_engine\n",
    "from sklearn.model_selection import train_test_split \n",
    "from sklearn.preprocessing import StandardScaler\n",
    "from sklearn.linear_model import LogisticRegression"
   ]
  },
  {
   "cell_type": "markdown",
   "metadata": {},
   "source": [
    "# Step 2 - Identify Salient Features Using $\\ell1$-penalty"
   ]
  },
  {
   "cell_type": "markdown",
   "metadata": {},
   "source": [
    "**NOTE: EACH OF THESE SHOULD BE WRITTEN SOLELY WITH REGARD TO STEP 2 - Identify Features**\n",
    "\n",
    "### Domain and Data\n",
    "\n",
    "We will be using the same data set from step 1.\n",
    "\n",
    "### Problem Statement\n",
    "\n",
    "We will be using our benchmark to determine what the most relevant features are in the Madelon dataset.  \n",
    "\n",
    "### Solution Statement\n",
    "\n",
    "We will develop a model with a reduced number of features as determined by implementing the lasso penalty.\n",
    "\n",
    "### Metric\n",
    "\n",
    "We will be using the Lasso penalty on our model to identify important features.\n",
    "\n",
    "### Benchmark\n",
    "\n",
    "We will use as the benchmark determined in Step 1 to evaluate the effects of adding a Lasso penalty to our model."
   ]
  },
  {
   "cell_type": "markdown",
   "metadata": {},
   "source": [
    "## Implementation\n",
    "\n",
    "Implement the following code pipeline using the functions you write in `lib/project_5.py`."
   ]
  },
  {
   "cell_type": "markdown",
   "metadata": {},
   "source": [
    "<img src=\"assets/identify_features.png\" width=\"600px\">"
   ]
  },
  {
   "cell_type": "code",
   "execution_count": 10,
   "metadata": {
    "collapsed": false
   },
   "outputs": [],
   "source": [
    "mandelon_df = load_data_from_database()"
   ]
  },
  {
   "cell_type": "code",
   "execution_count": 11,
   "metadata": {
    "collapsed": true
   },
   "outputs": [],
   "source": [
    "data_dict = make_data_dict(mandelon_df, random_state=77)"
   ]
  },
  {
   "cell_type": "code",
   "execution_count": 12,
   "metadata": {
    "collapsed": false
   },
   "outputs": [],
   "source": [
    "scaled_mandelon = general_transformer(StandardScaler(), data_dict)"
   ]
  },
  {
   "cell_type": "code",
   "execution_count": 35,
   "metadata": {
    "collapsed": false
   },
   "outputs": [
    {
     "data": {
      "text/plain": [
       "(0.52200000000000002, 0.49266666666666664)"
      ]
     },
     "execution_count": 35,
     "metadata": {},
     "output_type": "execute_result"
    }
   ],
   "source": [
    "LogReg_A = general_model(LogisticRegression(penalty='l1', C=0.001), data_dict)\n",
    "LogReg_score_A = data_dict['test_score'], data_dict['train_score']\n",
    "LogReg_score_A"
   ]
  },
  {
   "cell_type": "code",
   "execution_count": 34,
   "metadata": {
    "collapsed": false
   },
   "outputs": [
    {
     "data": {
      "text/plain": [
       "(0.60999999999999999, 0.6166666666666667)"
      ]
     },
     "execution_count": 34,
     "metadata": {},
     "output_type": "execute_result"
    }
   ],
   "source": [
    "LogReg_B = general_model(LogisticRegression(penalty='l1', C=0.01), data_dict)\n",
    "LogReg_score_B = data_dict['test_score'], data_dict['train_score']\n",
    "LogReg_score_B"
   ]
  },
  {
   "cell_type": "code",
   "execution_count": 33,
   "metadata": {
    "collapsed": false,
    "scrolled": false
   },
   "outputs": [
    {
     "data": {
      "text/plain": [
       "(0.55600000000000005, 0.7573333333333333)"
      ]
     },
     "execution_count": 33,
     "metadata": {},
     "output_type": "execute_result"
    }
   ],
   "source": [
    "LogReg_C = general_model(LogisticRegression(penalty='l1', C=0.1), data_dict)\n",
    "LogReg_score_C = data_dict['test_score'], data_dict['train_score']\n",
    "LogReg_score_C"
   ]
  },
  {
   "cell_type": "code",
   "execution_count": 32,
   "metadata": {
    "collapsed": false
   },
   "outputs": [
    {
     "data": {
      "text/plain": [
       "(0.53800000000000003, 0.78866666666666663)"
      ]
     },
     "execution_count": 32,
     "metadata": {},
     "output_type": "execute_result"
    }
   ],
   "source": [
    "LogReg_D = general_model(LogisticRegression(penalty='l1', C=1.0), data_dict)\n",
    "LogReg_score_D = data_dict['test_score'], data_dict['train_score']\n",
    "LogReg_score_D"
   ]
  },
  {
   "cell_type": "code",
   "execution_count": null,
   "metadata": {
    "collapsed": true
   },
   "outputs": [],
   "source": []
  }
 ],
 "metadata": {
  "anaconda-cloud": {},
  "kernelspec": {
   "display_name": "Python [default]",
   "language": "python",
   "name": "python2"
  },
  "language_info": {
   "codemirror_mode": {
    "name": "ipython",
    "version": 2
   },
   "file_extension": ".py",
   "mimetype": "text/x-python",
   "name": "python",
   "nbconvert_exporter": "python",
   "pygments_lexer": "ipython2",
   "version": "2.7.12"
  }
 },
 "nbformat": 4,
 "nbformat_minor": 1
}
