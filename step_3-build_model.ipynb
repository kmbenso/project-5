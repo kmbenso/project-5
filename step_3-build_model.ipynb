{
 "cells": [
  {
   "cell_type": "code",
   "execution_count": 32,
   "metadata": {
    "collapsed": false
   },
   "outputs": [],
   "source": [
    "from lib.project_5 import load_data_from_database, make_data_dict, general_model, general_transformer"
   ]
  },
  {
   "cell_type": "code",
   "execution_count": 33,
   "metadata": {
    "collapsed": true
   },
   "outputs": [],
   "source": [
    "import pandas as pd\n",
    "from sqlalchemy import create_engine\n",
    "from sklearn.model_selection import train_test_split \n",
    "from sklearn.preprocessing import StandardScaler\n",
    "from sklearn.linear_model import LogisticRegression\n",
    "from sklearn.feature_selection import SelectKBest\n",
    "from sklearn.neighbors import KNeighborsClassifier\n",
    "from sklearn.model_selection import GridSearchCV, cross_val_score\n",
    "from sklearn.svm import SVC\n",
    "\n"
   ]
  },
  {
   "cell_type": "markdown",
   "metadata": {},
   "source": [
    "# Step 3 - Build Model"
   ]
  },
  {
   "cell_type": "markdown",
   "metadata": {},
   "source": [
    "\n",
    "\n",
    "### Domain and Data\n",
    "\n",
    "We will be using the same data from steps 1 and 2.\n",
    "\n",
    "### Problem Statement\n",
    "\n",
    "We want to see if using SelectKBest and/or a gridsearch will improve the scores of our models.\n",
    "\n",
    "### Solution Statement\n",
    "\n",
    "We will develop a binary classification model and attempt to augment its performance using automatic feature selection techniques.\n",
    "\n",
    "### Metric\n",
    "\n",
    "We will look at the results of all models to determine which one has the highest scores for our data.\n",
    "\n",
    "### Benchmark\n",
    "\n",
    "We will use as the benchmark determined in Step 1 to evaluate the new models we have generated."
   ]
  },
  {
   "cell_type": "markdown",
   "metadata": {},
   "source": [
    "## Implementation\n",
    "\n",
    "Implement the following code pipeline using the functions you write in `lib/project_5.py`."
   ]
  },
  {
   "cell_type": "markdown",
   "metadata": {},
   "source": [
    "<img src=\"assets/build_model.png\" width=\"600px\">"
   ]
  },
  {
   "cell_type": "code",
   "execution_count": 34,
   "metadata": {
    "collapsed": false
   },
   "outputs": [],
   "source": [
    "mandelon_df = load_data_from_database()"
   ]
  },
  {
   "cell_type": "code",
   "execution_count": 35,
   "metadata": {
    "collapsed": true
   },
   "outputs": [],
   "source": [
    "data_dict = make_data_dict(mandelon_df, random_state=77)"
   ]
  },
  {
   "cell_type": "code",
   "execution_count": 36,
   "metadata": {
    "collapsed": false
   },
   "outputs": [],
   "source": [
    "scaled_mandelon = general_transformer(StandardScaler(), data_dict)"
   ]
  },
  {
   "cell_type": "code",
   "execution_count": 56,
   "metadata": {
    "collapsed": true
   },
   "outputs": [
    {
     "data": {
      "text/plain": [
       "{'X_test': array([[-0.58706238, -0.49447172,  0.97103468, ..., -0.11839187,\n",
       "         -0.10567   , -0.31523019],\n",
       "        [-1.0773316 , -0.27210065, -0.5492734 , ...,  0.82775579,\n",
       "          0.6173749 , -0.73006544],\n",
       "        [-0.54037007, -0.49447172, -0.3107937 , ..., -0.7457289 ,\n",
       "         -0.69314398,  0.86236667],\n",
       "        ..., \n",
       "        [-0.4236393 , -0.04972958, -0.35550864, ...,  1.62992445,\n",
       "          1.74713254, -1.05122822],\n",
       "        [ 1.14055298,  1.0287701 , -0.57908336, ...,  0.81747157,\n",
       "          0.59477974, -0.74344723],\n",
       "        [-0.65710084, -0.12755946, -0.29588872, ..., -1.34221329,\n",
       "         -1.23542765,  0.87574845]]),\n",
       " 'X_train': array([[ 0.79036068,  0.39501256, -1.0187803 , ..., -0.00526552,\n",
       "          0.02990092,  0.52782211],\n",
       "        [-1.35748544, -0.39440474, -1.14547264, ..., -0.01554973,\n",
       "         -0.01528939,  0.78207597],\n",
       "        [-0.93725468, -1.2171777 ,  0.05437834, ...,  0.86889264,\n",
       "          1.0014925 ,  0.50105854],\n",
       "        ..., \n",
       "        [ 1.02382222,  0.50619809,  0.20342815, ..., -0.25208664,\n",
       "         -0.24124092, -0.31523019],\n",
       "        [ 0.30009146, -0.17203367, -0.7057757 , ...,  0.97173478,\n",
       "          1.0466828 ,  0.42076785],\n",
       "        [-1.49756236, -0.28321921, -0.92189793, ...,  1.54765074,\n",
       "          1.3856101 , -0.6899201 ]]),\n",
       " 'model': KNeighborsClassifier(algorithm='auto', leaf_size=30, metric='minkowski',\n",
       "            metric_params=None, n_jobs=1, n_neighbors=5, p=2,\n",
       "            weights='uniform'),\n",
       " 'test_score': 0.80800000000000005,\n",
       " 'train_score': 0.88466666666666671,\n",
       " 'y_test': 534    -1\n",
       " 323     1\n",
       " 1082   -1\n",
       " 1450   -1\n",
       " 1436    1\n",
       " 1310   -1\n",
       " 1270   -1\n",
       " 1128    1\n",
       " 1125   -1\n",
       " 85     -1\n",
       " 817     1\n",
       " 1179    1\n",
       " 625     1\n",
       " 1208    1\n",
       " 1650   -1\n",
       " 968     1\n",
       " 1889   -1\n",
       " 1468    1\n",
       " 42      1\n",
       " 1803   -1\n",
       " 999    -1\n",
       " 883    -1\n",
       " 1644   -1\n",
       " 1296   -1\n",
       " 518    -1\n",
       " 714    -1\n",
       " 973     1\n",
       " 1693    1\n",
       " 1234   -1\n",
       " 1383   -1\n",
       "        ..\n",
       " 487     1\n",
       " 1842    1\n",
       " 838     1\n",
       " 1032   -1\n",
       " 771     1\n",
       " 553     1\n",
       " 1443    1\n",
       " 105    -1\n",
       " 1518   -1\n",
       " 1773    1\n",
       " 1144   -1\n",
       " 1173    1\n",
       " 298     1\n",
       " 957    -1\n",
       " 577    -1\n",
       " 441     1\n",
       " 1510    1\n",
       " 1715   -1\n",
       " 1981    1\n",
       " 815     1\n",
       " 9      -1\n",
       " 612    -1\n",
       " 90     -1\n",
       " 1814   -1\n",
       " 1484    1\n",
       " 812    -1\n",
       " 1139    1\n",
       " 1584    1\n",
       " 1078   -1\n",
       " 1029    1\n",
       " Name: label, dtype: int64,\n",
       " 'y_train': 366    -1\n",
       " 987    -1\n",
       " 100    -1\n",
       " 84     -1\n",
       " 413     1\n",
       " 891     1\n",
       " 489    -1\n",
       " 1112   -1\n",
       " 593    -1\n",
       " 713     1\n",
       " 1861    1\n",
       " 972    -1\n",
       " 1480   -1\n",
       " 1666    1\n",
       " 1733   -1\n",
       " 802     1\n",
       " 1255   -1\n",
       " 609    -1\n",
       " 156     1\n",
       " 247    -1\n",
       " 594     1\n",
       " 1080   -1\n",
       " 1951    1\n",
       " 935     1\n",
       " 1053    1\n",
       " 956     1\n",
       " 61      1\n",
       " 1850   -1\n",
       " 1124   -1\n",
       " 1683   -1\n",
       "        ..\n",
       " 1662   -1\n",
       " 779     1\n",
       " 257    -1\n",
       " 1723   -1\n",
       " 803     1\n",
       " 711     1\n",
       " 10     -1\n",
       " 1423    1\n",
       " 206     1\n",
       " 431    -1\n",
       " 1397    1\n",
       " 1444    1\n",
       " 1590   -1\n",
       " 740     1\n",
       " 1398   -1\n",
       " 827     1\n",
       " 928    -1\n",
       " 787     1\n",
       " 172     1\n",
       " 1141   -1\n",
       " 167     1\n",
       " 1465    1\n",
       " 736     1\n",
       " 927    -1\n",
       " 1688   -1\n",
       " 1317    1\n",
       " 235    -1\n",
       " 1620    1\n",
       " 607     1\n",
       " 727     1\n",
       " Name: label, dtype: int64}"
      ]
     },
     "execution_count": 56,
     "metadata": {},
     "output_type": "execute_result"
    }
   ],
   "source": [
    "kbest = general_transformer(SelectKBest(), data_dict)\n",
    "kbest"
   ]
  },
  {
   "cell_type": "code",
   "execution_count": 57,
   "metadata": {
    "collapsed": true
   },
   "outputs": [
    {
     "data": {
      "text/plain": [
       "{'X_test': array([[-0.58706238, -0.49447172,  0.97103468, ..., -0.11839187,\n",
       "         -0.10567   , -0.31523019],\n",
       "        [-1.0773316 , -0.27210065, -0.5492734 , ...,  0.82775579,\n",
       "          0.6173749 , -0.73006544],\n",
       "        [-0.54037007, -0.49447172, -0.3107937 , ..., -0.7457289 ,\n",
       "         -0.69314398,  0.86236667],\n",
       "        ..., \n",
       "        [-0.4236393 , -0.04972958, -0.35550864, ...,  1.62992445,\n",
       "          1.74713254, -1.05122822],\n",
       "        [ 1.14055298,  1.0287701 , -0.57908336, ...,  0.81747157,\n",
       "          0.59477974, -0.74344723],\n",
       "        [-0.65710084, -0.12755946, -0.29588872, ..., -1.34221329,\n",
       "         -1.23542765,  0.87574845]]),\n",
       " 'X_train': array([[ 0.79036068,  0.39501256, -1.0187803 , ..., -0.00526552,\n",
       "          0.02990092,  0.52782211],\n",
       "        [-1.35748544, -0.39440474, -1.14547264, ..., -0.01554973,\n",
       "         -0.01528939,  0.78207597],\n",
       "        [-0.93725468, -1.2171777 ,  0.05437834, ...,  0.86889264,\n",
       "          1.0014925 ,  0.50105854],\n",
       "        ..., \n",
       "        [ 1.02382222,  0.50619809,  0.20342815, ..., -0.25208664,\n",
       "         -0.24124092, -0.31523019],\n",
       "        [ 0.30009146, -0.17203367, -0.7057757 , ...,  0.97173478,\n",
       "          1.0466828 ,  0.42076785],\n",
       "        [-1.49756236, -0.28321921, -0.92189793, ...,  1.54765074,\n",
       "          1.3856101 , -0.6899201 ]]),\n",
       " 'model': LogisticRegression(C=1.0, class_weight=None, dual=False, fit_intercept=True,\n",
       "           intercept_scaling=1, max_iter=100, multi_class='ovr', n_jobs=1,\n",
       "           penalty='l2', random_state=None, solver='liblinear', tol=0.0001,\n",
       "           verbose=0, warm_start=False),\n",
       " 'test_score': 0.60799999999999998,\n",
       " 'train_score': 0.61199999999999999,\n",
       " 'y_test': 534    -1\n",
       " 323     1\n",
       " 1082   -1\n",
       " 1450   -1\n",
       " 1436    1\n",
       " 1310   -1\n",
       " 1270   -1\n",
       " 1128    1\n",
       " 1125   -1\n",
       " 85     -1\n",
       " 817     1\n",
       " 1179    1\n",
       " 625     1\n",
       " 1208    1\n",
       " 1650   -1\n",
       " 968     1\n",
       " 1889   -1\n",
       " 1468    1\n",
       " 42      1\n",
       " 1803   -1\n",
       " 999    -1\n",
       " 883    -1\n",
       " 1644   -1\n",
       " 1296   -1\n",
       " 518    -1\n",
       " 714    -1\n",
       " 973     1\n",
       " 1693    1\n",
       " 1234   -1\n",
       " 1383   -1\n",
       "        ..\n",
       " 487     1\n",
       " 1842    1\n",
       " 838     1\n",
       " 1032   -1\n",
       " 771     1\n",
       " 553     1\n",
       " 1443    1\n",
       " 105    -1\n",
       " 1518   -1\n",
       " 1773    1\n",
       " 1144   -1\n",
       " 1173    1\n",
       " 298     1\n",
       " 957    -1\n",
       " 577    -1\n",
       " 441     1\n",
       " 1510    1\n",
       " 1715   -1\n",
       " 1981    1\n",
       " 815     1\n",
       " 9      -1\n",
       " 612    -1\n",
       " 90     -1\n",
       " 1814   -1\n",
       " 1484    1\n",
       " 812    -1\n",
       " 1139    1\n",
       " 1584    1\n",
       " 1078   -1\n",
       " 1029    1\n",
       " Name: label, dtype: int64,\n",
       " 'y_train': 366    -1\n",
       " 987    -1\n",
       " 100    -1\n",
       " 84     -1\n",
       " 413     1\n",
       " 891     1\n",
       " 489    -1\n",
       " 1112   -1\n",
       " 593    -1\n",
       " 713     1\n",
       " 1861    1\n",
       " 972    -1\n",
       " 1480   -1\n",
       " 1666    1\n",
       " 1733   -1\n",
       " 802     1\n",
       " 1255   -1\n",
       " 609    -1\n",
       " 156     1\n",
       " 247    -1\n",
       " 594     1\n",
       " 1080   -1\n",
       " 1951    1\n",
       " 935     1\n",
       " 1053    1\n",
       " 956     1\n",
       " 61      1\n",
       " 1850   -1\n",
       " 1124   -1\n",
       " 1683   -1\n",
       "        ..\n",
       " 1662   -1\n",
       " 779     1\n",
       " 257    -1\n",
       " 1723   -1\n",
       " 803     1\n",
       " 711     1\n",
       " 10     -1\n",
       " 1423    1\n",
       " 206     1\n",
       " 431    -1\n",
       " 1397    1\n",
       " 1444    1\n",
       " 1590   -1\n",
       " 740     1\n",
       " 1398   -1\n",
       " 827     1\n",
       " 928    -1\n",
       " 787     1\n",
       " 172     1\n",
       " 1141   -1\n",
       " 167     1\n",
       " 1465    1\n",
       " 736     1\n",
       " 927    -1\n",
       " 1688   -1\n",
       " 1317    1\n",
       " 235    -1\n",
       " 1620    1\n",
       " 607     1\n",
       " 727     1\n",
       " Name: label, dtype: int64}"
      ]
     },
     "execution_count": 57,
     "metadata": {},
     "output_type": "execute_result"
    }
   ],
   "source": [
    "kbest_LR = general_model(LogisticRegression(),kbest)\n",
    "kbest_LR"
   ]
  },
  {
   "cell_type": "code",
   "execution_count": 58,
   "metadata": {
    "collapsed": false
   },
   "outputs": [
    {
     "name": "stdout",
     "output_type": "stream",
     "text": [
      "0.612\n",
      "0.608\n"
     ]
    }
   ],
   "source": [
    "print(kbest_LR['train_score'])\n",
    "print(kbest_LR['test_score'])"
   ]
  },
  {
   "cell_type": "code",
   "execution_count": 72,
   "metadata": {
    "collapsed": true
   },
   "outputs": [
    {
     "data": {
      "text/plain": [
       "{'X_test': array([[-0.58706238, -0.49447172,  0.97103468, ..., -0.11839187,\n",
       "         -0.10567   , -0.31523019],\n",
       "        [-1.0773316 , -0.27210065, -0.5492734 , ...,  0.82775579,\n",
       "          0.6173749 , -0.73006544],\n",
       "        [-0.54037007, -0.49447172, -0.3107937 , ..., -0.7457289 ,\n",
       "         -0.69314398,  0.86236667],\n",
       "        ..., \n",
       "        [-0.4236393 , -0.04972958, -0.35550864, ...,  1.62992445,\n",
       "          1.74713254, -1.05122822],\n",
       "        [ 1.14055298,  1.0287701 , -0.57908336, ...,  0.81747157,\n",
       "          0.59477974, -0.74344723],\n",
       "        [-0.65710084, -0.12755946, -0.29588872, ..., -1.34221329,\n",
       "         -1.23542765,  0.87574845]]),\n",
       " 'X_train': array([[ 0.79036068,  0.39501256, -1.0187803 , ..., -0.00526552,\n",
       "          0.02990092,  0.52782211],\n",
       "        [-1.35748544, -0.39440474, -1.14547264, ..., -0.01554973,\n",
       "         -0.01528939,  0.78207597],\n",
       "        [-0.93725468, -1.2171777 ,  0.05437834, ...,  0.86889264,\n",
       "          1.0014925 ,  0.50105854],\n",
       "        ..., \n",
       "        [ 1.02382222,  0.50619809,  0.20342815, ..., -0.25208664,\n",
       "         -0.24124092, -0.31523019],\n",
       "        [ 0.30009146, -0.17203367, -0.7057757 , ...,  0.97173478,\n",
       "          1.0466828 ,  0.42076785],\n",
       "        [-1.49756236, -0.28321921, -0.92189793, ...,  1.54765074,\n",
       "          1.3856101 , -0.6899201 ]]),\n",
       " 'model': KNeighborsClassifier(algorithm='auto', leaf_size=30, metric='minkowski',\n",
       "            metric_params=None, n_jobs=1, n_neighbors=5, p=2,\n",
       "            weights='uniform'),\n",
       " 'test_score': 0.80800000000000005,\n",
       " 'train_score': 0.88466666666666671,\n",
       " 'y_test': 534    -1\n",
       " 323     1\n",
       " 1082   -1\n",
       " 1450   -1\n",
       " 1436    1\n",
       " 1310   -1\n",
       " 1270   -1\n",
       " 1128    1\n",
       " 1125   -1\n",
       " 85     -1\n",
       " 817     1\n",
       " 1179    1\n",
       " 625     1\n",
       " 1208    1\n",
       " 1650   -1\n",
       " 968     1\n",
       " 1889   -1\n",
       " 1468    1\n",
       " 42      1\n",
       " 1803   -1\n",
       " 999    -1\n",
       " 883    -1\n",
       " 1644   -1\n",
       " 1296   -1\n",
       " 518    -1\n",
       " 714    -1\n",
       " 973     1\n",
       " 1693    1\n",
       " 1234   -1\n",
       " 1383   -1\n",
       "        ..\n",
       " 487     1\n",
       " 1842    1\n",
       " 838     1\n",
       " 1032   -1\n",
       " 771     1\n",
       " 553     1\n",
       " 1443    1\n",
       " 105    -1\n",
       " 1518   -1\n",
       " 1773    1\n",
       " 1144   -1\n",
       " 1173    1\n",
       " 298     1\n",
       " 957    -1\n",
       " 577    -1\n",
       " 441     1\n",
       " 1510    1\n",
       " 1715   -1\n",
       " 1981    1\n",
       " 815     1\n",
       " 9      -1\n",
       " 612    -1\n",
       " 90     -1\n",
       " 1814   -1\n",
       " 1484    1\n",
       " 812    -1\n",
       " 1139    1\n",
       " 1584    1\n",
       " 1078   -1\n",
       " 1029    1\n",
       " Name: label, dtype: int64,\n",
       " 'y_train': 366    -1\n",
       " 987    -1\n",
       " 100    -1\n",
       " 84     -1\n",
       " 413     1\n",
       " 891     1\n",
       " 489    -1\n",
       " 1112   -1\n",
       " 593    -1\n",
       " 713     1\n",
       " 1861    1\n",
       " 972    -1\n",
       " 1480   -1\n",
       " 1666    1\n",
       " 1733   -1\n",
       " 802     1\n",
       " 1255   -1\n",
       " 609    -1\n",
       " 156     1\n",
       " 247    -1\n",
       " 594     1\n",
       " 1080   -1\n",
       " 1951    1\n",
       " 935     1\n",
       " 1053    1\n",
       " 956     1\n",
       " 61      1\n",
       " 1850   -1\n",
       " 1124   -1\n",
       " 1683   -1\n",
       "        ..\n",
       " 1662   -1\n",
       " 779     1\n",
       " 257    -1\n",
       " 1723   -1\n",
       " 803     1\n",
       " 711     1\n",
       " 10     -1\n",
       " 1423    1\n",
       " 206     1\n",
       " 431    -1\n",
       " 1397    1\n",
       " 1444    1\n",
       " 1590   -1\n",
       " 740     1\n",
       " 1398   -1\n",
       " 827     1\n",
       " 928    -1\n",
       " 787     1\n",
       " 172     1\n",
       " 1141   -1\n",
       " 167     1\n",
       " 1465    1\n",
       " 736     1\n",
       " 927    -1\n",
       " 1688   -1\n",
       " 1317    1\n",
       " 235    -1\n",
       " 1620    1\n",
       " 607     1\n",
       " 727     1\n",
       " Name: label, dtype: int64}"
      ]
     },
     "execution_count": 72,
     "metadata": {},
     "output_type": "execute_result"
    }
   ],
   "source": [
    "knn_model = general_model(KNeighborsClassifier(), kbest)\n",
    "knn_model"
   ]
  },
  {
   "cell_type": "code",
   "execution_count": 68,
   "metadata": {
    "collapsed": false
   },
   "outputs": [
    {
     "name": "stdout",
     "output_type": "stream",
     "text": [
      "0.884666666667\n",
      "0.808\n"
     ]
    }
   ],
   "source": [
    "print(knn_model['train_score']) \n",
    "print(knn_model['test_score'])"
   ]
  },
  {
   "cell_type": "code",
   "execution_count": 61,
   "metadata": {
    "collapsed": false
   },
   "outputs": [],
   "source": [
    "params = {\"C\": [0.001, 0.01, 0.1, 1.0], 'penalty': [\"l1\", \"l2\"]}"
   ]
  },
  {
   "cell_type": "code",
   "execution_count": 70,
   "metadata": {
    "collapsed": false
   },
   "outputs": [
    {
     "name": "stdout",
     "output_type": "stream",
     "text": [
      "Fitting 3 folds for each of 8 candidates, totalling 24 fits\n"
     ]
    },
    {
     "name": "stderr",
     "output_type": "stream",
     "text": [
      "[Parallel(n_jobs=-1)]: Done  24 out of  24 | elapsed:    0.4s finished\n"
     ]
    }
   ],
   "source": [
    "gridsearch_model = general_model(GridSearchCV(LogisticRegression(), params, n_jobs=-1, verbose=1), data_dict)"
   ]
  },
  {
   "cell_type": "code",
   "execution_count": 63,
   "metadata": {
    "collapsed": false,
    "scrolled": true
   },
   "outputs": [
    {
     "data": {
      "text/plain": [
       "(0.6166666666666667, 0.60999999999999999)"
      ]
     },
     "execution_count": 63,
     "metadata": {},
     "output_type": "execute_result"
    }
   ],
   "source": [
    "gridsearch_model['train_score'], gridsearch_model['test_score']"
   ]
  },
  {
   "cell_type": "code",
   "execution_count": 73,
   "metadata": {
    "collapsed": true
   },
   "outputs": [],
   "source": [
    "gridsearchLR = general_model(LogisticRegression(), gridsearch_model)"
   ]
  },
  {
   "cell_type": "code",
   "execution_count": 75,
   "metadata": {
    "collapsed": false
   },
   "outputs": [
    {
     "data": {
      "text/plain": [
       "(0.61199999999999999, 0.60799999999999998)"
      ]
     },
     "execution_count": 75,
     "metadata": {},
     "output_type": "execute_result"
    }
   ],
   "source": [
    "gridsearchLR['train_score'], gridsearch_model['test_score']"
   ]
  },
  {
   "cell_type": "code",
   "execution_count": null,
   "metadata": {
    "collapsed": true
   },
   "outputs": [],
   "source": []
  }
 ],
 "metadata": {
  "anaconda-cloud": {},
  "kernelspec": {
   "display_name": "Python [default]",
   "language": "python",
   "name": "python2"
  },
  "language_info": {
   "codemirror_mode": {
    "name": "ipython",
    "version": 2
   },
   "file_extension": ".py",
   "mimetype": "text/x-python",
   "name": "python",
   "nbconvert_exporter": "python",
   "pygments_lexer": "ipython2",
   "version": "2.7.12"
  }
 },
 "nbformat": 4,
 "nbformat_minor": 1
}
