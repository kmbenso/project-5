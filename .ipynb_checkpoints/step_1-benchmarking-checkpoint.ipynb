{
 "cells": [
  {
   "cell_type": "code",
   "execution_count": 2,
   "metadata": {
    "collapsed": false
   },
   "outputs": [],
   "source": [
    "from lib.project_5 import load_data_from_database, make_data_dict, general_transformer, general_model"
   ]
  },
  {
   "cell_type": "markdown",
   "metadata": {},
   "source": [
    "# Step 1 - Benchmarking"
   ]
  },
  {
   "cell_type": "markdown",
   "metadata": {},
   "source": [
    "\n",
    "\n",
    "### Domain and Data\n",
    "MADELON is an artificial dataset, which was part of the NIPS 2003 feature selection challenge. This is a two-class classification problem with continuous input variables. The difficulty is that the problem is multivariate and highly non-linear.  It is an artificial dataset containing data points grouped in 32 clusters placed on the vertices of a five dimensional hypercube and randomly labeled +1 or -1. The five dimensions constitute 5 informative features. 15 linear combinations of those features were added to form a set of 20 (redundant) informative features. Based on those 20 features one must separate the examples into the 2 classes (corresponding to the +-1 labels). We added a number of distractor feature called 'probes' having no predictive power. The order of the features and patterns were randomized.\n",
    "\n",
    "### Problem Statement\n",
    "\n",
    "We will be assessing the data to determine what an appropriate benchmark might be.\n",
    "\n",
    "### Solution Statement\n",
    "\n",
    "We will be identifying a benchmark to find feature selection algorithms that significantly outperform methods using all features in performing a binary classification task.\n",
    "\n",
    "### Metric\n",
    "\n",
    "We will be simply analysing our data with the ridge/default penalty. \n",
    "\n",
    "### Benchmark\n",
    "\n",
    "This is the process by which you identify a benchmark for the project."
   ]
  },
  {
   "cell_type": "markdown",
   "metadata": {},
   "source": [
    "## Implementation\n",
    "\n",
    "Implement the following code pipeline using the functions you write in `lib/project_5.py`."
   ]
  },
  {
   "cell_type": "markdown",
   "metadata": {},
   "source": [
    "<img src=\"assets/benchmarking.png\" width=\"600px\">"
   ]
  },
  {
   "cell_type": "code",
   "execution_count": 3,
   "metadata": {
    "collapsed": true
   },
   "outputs": [],
   "source": [
    "import pandas as pd\n",
    "from sqlalchemy import create_engine\n",
    "from sklearn.model_selection import train_test_split \n",
    "from sklearn.preprocessing import StandardScaler\n",
    "from sklearn.linear_model import LogisticRegression"
   ]
  },
  {
   "cell_type": "code",
   "execution_count": 4,
   "metadata": {
    "collapsed": false
   },
   "outputs": [],
   "source": [
    "mandelon_df = load_data_from_database()\n"
   ]
  },
  {
   "cell_type": "code",
   "execution_count": 5,
   "metadata": {
    "collapsed": false,
    "scrolled": true
   },
   "outputs": [],
   "source": [
    "data_dict = make_data_dict(mandelon_df, random_state=77)"
   ]
  },
  {
   "cell_type": "code",
   "execution_count": 6,
   "metadata": {
    "collapsed": false
   },
   "outputs": [],
   "source": [
    "scaled_mandelon = general_transformer(StandardScaler(), data_dict)\n"
   ]
  },
  {
   "cell_type": "code",
   "execution_count": 7,
   "metadata": {
    "collapsed": false
   },
   "outputs": [
    {
     "data": {
      "text/plain": [
       "{'X_test': array([[-1.03207743, -0.28192768,  0.23721972, ..., -1.520195  ,\n",
       "         -0.83912849,  1.11284104],\n",
       "        [ 0.83013124,  0.85987615,  0.02929943, ..., -0.62010915,\n",
       "         -0.27222274, -0.08265644],\n",
       "        [ 0.20939502,  0.53364649, -1.84198313, ..., -1.07015207,\n",
       "          0.61862915, -0.931074  ],\n",
       "        ..., \n",
       "        [ 2.84752397,  0.85987615, -1.40015253, ...,  0.20496955,\n",
       "          1.13154387, -0.69968739],\n",
       "        [-2.11836582, -1.84783007, -0.3605511 , ...,  1.18006256,\n",
       "         -1.10908361, -0.12122087],\n",
       "        [ 0.05421096,  0.24003979,  1.79662186, ...,  1.48009117,\n",
       "          0.37566954,  0.99714773]]),\n",
       " 'X_train': array([[ -2.56157149e-01,   1.87118811e+00,  -2.04610887e-01, ...,\n",
       "          -3.95087684e-01,   4.29660565e-01,  -1.00820287e+00],\n",
       "        [ -1.00973093e-01,   6.31515385e-01,   5.23110111e-01, ...,\n",
       "          -1.37018069e+00,   2.40691983e-01,  -1.59785308e-01],\n",
       "        [  2.09395020e-01,  -3.18537169e+00,  -1.71203295e+00, ...,\n",
       "          -4.70094838e-01,   3.75669542e-01,   2.64423474e-01],\n",
       "        ..., \n",
       "        [  5.42109636e-02,  -1.48897744e+00,  -1.26640780e-01, ...,\n",
       "          -1.07015207e+00,  -2.18890408e+00,  -8.92509567e-01],\n",
       "        [  1.29568341e+00,  -8.36518106e-01,  -2.04610887e-01, ...,\n",
       "          -9.50590668e-02,  -2.26762299e-03,  -5.83994089e-01],\n",
       "        [ -2.56157149e-01,  -1.74996117e+00,  -1.78620852e-01, ...,\n",
       "           1.78011979e+00,  -2.26762299e-03,  -1.12389617e+00]]),\n",
       " 'model': LogisticRegression(C=10000000, class_weight=None, dual=False,\n",
       "           fit_intercept=True, intercept_scaling=1, max_iter=100,\n",
       "           multi_class='ovr', n_jobs=1, penalty='l2', random_state=None,\n",
       "           solver='liblinear', tol=0.0001, verbose=0, warm_start=False),\n",
       " 'test_score': 0.54400000000000004,\n",
       " 'train_score': 0.78600000000000003,\n",
       " 'y_test': 534    -1\n",
       " 323     1\n",
       " 1082   -1\n",
       " 1450   -1\n",
       " 1436    1\n",
       " 1310   -1\n",
       " 1270   -1\n",
       " 1128    1\n",
       " 1125   -1\n",
       " 85     -1\n",
       " 817     1\n",
       " 1179    1\n",
       " 625     1\n",
       " 1208    1\n",
       " 1650   -1\n",
       " 968     1\n",
       " 1889   -1\n",
       " 1468    1\n",
       " 42      1\n",
       " 1803   -1\n",
       " 999    -1\n",
       " 883    -1\n",
       " 1644   -1\n",
       " 1296   -1\n",
       " 518    -1\n",
       " 714    -1\n",
       " 973     1\n",
       " 1693    1\n",
       " 1234   -1\n",
       " 1383   -1\n",
       "        ..\n",
       " 487     1\n",
       " 1842    1\n",
       " 838     1\n",
       " 1032   -1\n",
       " 771     1\n",
       " 553     1\n",
       " 1443    1\n",
       " 105    -1\n",
       " 1518   -1\n",
       " 1773    1\n",
       " 1144   -1\n",
       " 1173    1\n",
       " 298     1\n",
       " 957    -1\n",
       " 577    -1\n",
       " 441     1\n",
       " 1510    1\n",
       " 1715   -1\n",
       " 1981    1\n",
       " 815     1\n",
       " 9      -1\n",
       " 612    -1\n",
       " 90     -1\n",
       " 1814   -1\n",
       " 1484    1\n",
       " 812    -1\n",
       " 1139    1\n",
       " 1584    1\n",
       " 1078   -1\n",
       " 1029    1\n",
       " Name: label, dtype: int64,\n",
       " 'y_train': 366    -1\n",
       " 987    -1\n",
       " 100    -1\n",
       " 84     -1\n",
       " 413     1\n",
       " 891     1\n",
       " 489    -1\n",
       " 1112   -1\n",
       " 593    -1\n",
       " 713     1\n",
       " 1861    1\n",
       " 972    -1\n",
       " 1480   -1\n",
       " 1666    1\n",
       " 1733   -1\n",
       " 802     1\n",
       " 1255   -1\n",
       " 609    -1\n",
       " 156     1\n",
       " 247    -1\n",
       " 594     1\n",
       " 1080   -1\n",
       " 1951    1\n",
       " 935     1\n",
       " 1053    1\n",
       " 956     1\n",
       " 61      1\n",
       " 1850   -1\n",
       " 1124   -1\n",
       " 1683   -1\n",
       "        ..\n",
       " 1662   -1\n",
       " 779     1\n",
       " 257    -1\n",
       " 1723   -1\n",
       " 803     1\n",
       " 711     1\n",
       " 10     -1\n",
       " 1423    1\n",
       " 206     1\n",
       " 431    -1\n",
       " 1397    1\n",
       " 1444    1\n",
       " 1590   -1\n",
       " 740     1\n",
       " 1398   -1\n",
       " 827     1\n",
       " 928    -1\n",
       " 787     1\n",
       " 172     1\n",
       " 1141   -1\n",
       " 167     1\n",
       " 1465    1\n",
       " 736     1\n",
       " 927    -1\n",
       " 1688   -1\n",
       " 1317    1\n",
       " 235    -1\n",
       " 1620    1\n",
       " 607     1\n",
       " 727     1\n",
       " Name: label, dtype: int64}"
      ]
     },
     "execution_count": 7,
     "metadata": {},
     "output_type": "execute_result"
    }
   ],
   "source": [
    "modeled_data = general_model(LogisticRegression(C=10000000), data_dict)\n",
    "modeled_data\n"
   ]
  },
  {
   "cell_type": "code",
   "execution_count": 10,
   "metadata": {
    "collapsed": false
   },
   "outputs": [
    {
     "name": "stdout",
     "output_type": "stream",
     "text": [
      "0.544\n"
     ]
    }
   ],
   "source": [
    "print(data_dict['test_score'])"
   ]
  },
  {
   "cell_type": "code",
   "execution_count": 11,
   "metadata": {
    "collapsed": false
   },
   "outputs": [
    {
     "name": "stdout",
     "output_type": "stream",
     "text": [
      "0.786\n"
     ]
    }
   ],
   "source": [
    "print(data_dict['train_score'])"
   ]
  },
  {
   "cell_type": "code",
   "execution_count": null,
   "metadata": {
    "collapsed": true
   },
   "outputs": [],
   "source": []
  }
 ],
 "metadata": {
  "anaconda-cloud": {},
  "kernelspec": {
   "display_name": "Python [default]",
   "language": "python",
   "name": "python2"
  },
  "language_info": {
   "codemirror_mode": {
    "name": "ipython",
    "version": 2
   },
   "file_extension": ".py",
   "mimetype": "text/x-python",
   "name": "python",
   "nbconvert_exporter": "python",
   "pygments_lexer": "ipython2",
   "version": "2.7.12"
  }
 },
 "nbformat": 4,
 "nbformat_minor": 1
}
